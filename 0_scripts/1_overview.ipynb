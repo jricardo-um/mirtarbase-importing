{
 "cells": [
  {
   "cell_type": "code",
   "execution_count": null,
   "metadata": {},
   "outputs": [],
   "source": [
    "import pandas\n",
    "import pickle\n",
    "\n",
    "\n",
    "def readdb( name ):\n",
    "\ttry:\n",
    "\t\twith open( name + '.pckl', 'rb' ) as buf:\n",
    "\t\t\tdatabase = pickle.load( buf )\n",
    "\texcept:\n",
    "\t\tdatabase = pandas.read_excel( name + '.xlsx' )\n",
    "\t\twith open( name + '.pckl', 'wb' ) as buf:\n",
    "\t\t\tpickle.dump( database, buf )\n",
    "\tfinally:\n",
    "\t\treturn database"
   ]
  },
  {
   "cell_type": "code",
   "execution_count": null,
   "metadata": {},
   "outputs": [],
   "source": [
    "hdb = readdb( '../1_download/hsa_MTI' )\n",
    "print( hdb.columns )\n",
    "kols = [ 'miRTarBase ID', 'miRNA', 'Target Gene' ]\n",
    "kol2 = [ 'Target Gene', 'Experiments', 'Support Type', 'References (PMID)' ]"
   ]
  },
  {
   "cell_type": "code",
   "execution_count": null,
   "metadata": {},
   "outputs": [],
   "source": [
    "# column formats\n",
    "{ key: set( map( type, hdb[ key ] ) ) for key in hdb.columns }\n",
    "# you can appreciate that some 'Target Gene' are erroneous"
   ]
  },
  {
   "cell_type": "code",
   "execution_count": null,
   "metadata": {},
   "outputs": [],
   "source": [
    "# all types of 'Support Type'\n",
    "hdb.groupby( 'Support Type' )[ 'miRNA' ].count()\n",
    "# there is no float value, because float('nan') is discarded"
   ]
  },
  {
   "cell_type": "code",
   "execution_count": null,
   "metadata": {},
   "outputs": [],
   "source": [
    "# quick preview\n",
    "print( hdb.iloc[ 0:3 ][ kols + kol2 ] )\n",
    "# 'References (PMID)' and 'Support Type' are multivaluated to 'miRTarBase ID'\n",
    "# and 'Experiments' is multivaluated to 'References (PMID)'"
   ]
  },
  {
   "cell_type": "code",
   "execution_count": null,
   "metadata": {},
   "outputs": [],
   "source": [
    "# quick preview\n",
    "print( hdb.head( 12 )[ kols ] )\n",
    "# supposedly one 'miRTarBase ID' defines a 'miRNA'-'Target Gene' pair"
   ]
  },
  {
   "cell_type": "code",
   "execution_count": null,
   "metadata": {},
   "outputs": [],
   "source": [
    "gro1 = hdb.groupby( kols[ 0 ] )[ kols[ 2 ] ].nunique().sort_values( ascending=False )\n",
    "print( gro1 )\n",
    "# but some 'miRTarBase ID' define multiple pairs (or are corrupted entries)\n",
    "print( sum( gro1 > 1 ), \"doubles out of\", sum( gro1 > 0 ), \"entries\" )"
   ]
  },
  {
   "cell_type": "code",
   "execution_count": null,
   "metadata": {},
   "outputs": [],
   "source": [
    "f = hdb[ 'miRTarBase ID' ] == gro1.index[ 0 ]\n",
    "# example of multiple MTI for one 'miRTarBase ID'\n",
    "print( hdb[ f ][ kols + kol2 ] )"
   ]
  }
 ],
 "metadata": {
  "kernelspec": {
   "display_name": "Python 3",
   "language": "python",
   "name": "python3"
  },
  "language_info": {
   "codemirror_mode": {
    "name": "ipython",
    "version": 3
   },
   "file_extension": ".py",
   "mimetype": "text/x-python",
   "name": "python",
   "nbconvert_exporter": "python",
   "pygments_lexer": "ipython3",
   "version": "3.10.6"
  },
  "orig_nbformat": 4
 },
 "nbformat": 4,
 "nbformat_minor": 2
}
