{
 "cells": [
  {
   "cell_type": "code",
   "execution_count": 3,
   "metadata": {},
   "outputs": [],
   "source": [
    "import json\n",
    "import pymongo\n",
    "from flask import Flask, request, jsonify\n",
    "from flask_mongoengine import MongoEngine\n",
    "\n",
    "xxyzx = None\n",
    "app = Flask( __name__ )\n",
    "app.config[ 'MONGODB_SETTINGS' ] = { 'db': 'tfm00', 'host': 'localhost', 'port': 27017 }\n",
    "db = MongoEngine()\n",
    "db.init_app( app )\n"
   ]
  },
  {
   "cell_type": "code",
   "execution_count": 4,
   "metadata": {},
   "outputs": [],
   "source": [
    "class User( db.Document ):\n",
    "\t_id = db.StringField()\n",
    "\tgene_symbol = db.StringField()\n",
    "\t\n",
    "\tdef to_json( self ):\n",
    "\t\treturn { \"_id\": self._id, \"email\": self.gene_symbol }\n"
   ]
  },
  {
   "cell_type": "code",
   "execution_count": 5,
   "metadata": {},
   "outputs": [],
   "source": [
    "def retrieve_with_mongoengine( name ):\n",
    "\tuser = User.objects( _id=name )\n",
    "\treturn jsonify( user.to_json() )\n",
    "\n",
    "\n",
    "myclient = pymongo.MongoClient( 'mongodb://localhost:27017/' )\n",
    "mydb = myclient[ 'tfm00' ]\n",
    "mycol = mydb[ 'mirtarbase' ]\n",
    "\n",
    "\n",
    "def retrieve_with_pymongo( conditions, fields ):\n",
    "\tmyres = mycol.find( conditions, fields )\n",
    "\treturn myres\n"
   ]
  },
  {
   "cell_type": "code",
   "execution_count": 6,
   "metadata": {},
   "outputs": [],
   "source": [
    "@app.route( '/', methods=[ 'GET' ] )\n",
    "def mainmenu():\n",
    "\treturn jsonify( {\n",
    "\t\t'help': 'please use one of the shown formats',\n",
    "\t\t'fmts': {\n",
    "\t\t'/genes?mirna=<id>': 'get genes regulted by mirna',\n",
    "\t\t'/mirnas?gene=<id>': 'get mirnas regulting a gene',\n",
    "\t\t}\n",
    "\t} )\n",
    "\n",
    "\n",
    "### 1. Qué genes están regulados por un determinado mirna.\n",
    "### recibe un `_id` y devuelve un `gene_symbol`\n",
    "@app.route( '/genes', methods=[ 'GET' ] )\n",
    "def genes():\n",
    "\tname = request.args.get( 'mirna' )\n",
    "\ttry:\n",
    "\t\tres = retrieve_with_mongoengine( name )\n",
    "\texcept:\n",
    "\t\tres = retrieve_with_pymongo( { '_id': name }, { '_id': 0, 'gene_symbol': 1 } )\n",
    "\t\tres = next( res, { 'gene_symbol': None } )\n",
    "\treturn jsonify( res )\n",
    "\n",
    "\n",
    "### 2. Qué mirnas regulan determinados genes.\n",
    "### recibe un `gene_symbol` y se devuelve uno o varios `_id`s\n",
    "@app.route( '/mirnas', methods=[ 'GET' ] )\n",
    "def mirnas():\n",
    "\tname = request.args.get( 'gen' )\n",
    "\tprint( name )\n",
    "\treturn jsonify( { 'name': name } )\n"
   ]
  },
  {
   "cell_type": "code",
   "execution_count": 12,
   "metadata": {},
   "outputs": [
    {
     "data": {
      "text/plain": [
       "({'gene_symbol': 'CSD2'}, dict)"
      ]
     },
     "execution_count": 12,
     "metadata": {},
     "output_type": "execute_result"
    }
   ],
   "source": [
    "res = retrieve_with_pymongo(\n",
    "\t{\n",
    "\t'_id': 'MIRT002091',\n",
    "\t},\n",
    "\t{\n",
    "\t'_id': 0,\n",
    "\t'gene_symbol': 1,\n",
    "\t},\n",
    ")\n",
    "res = next( res, { 'gene_symbol': None } )\n",
    "res, type( res )\n"
   ]
  },
  {
   "cell_type": "code",
   "execution_count": 17,
   "metadata": {},
   "outputs": [
    {
     "data": {
      "text/plain": [
       "[{'description': '\"A vesicle derived via budding from a mitochondrion. These vesicles often contain inner membrane and, much more rarely, cristae.\" [GOC:bc, GOC:pad, GOC:PARL-UCL, PMID:18207745, PMID:20619655, PMID:22226745, PMID:23300790]',\n",
       "  'effective_domain_size': 22122,\n",
       "  'intersection_size': 1,\n",
       "  'name': 'mitochondrion-derived vesicle',\n",
       "  'native': 'GO:0099073',\n",
       "  'p_value': 0.029870398315825383,\n",
       "  'parents': ['GO:0031410'],\n",
       "  'precision': 1.0,\n",
       "  'query': 'query_1',\n",
       "  'query_size': 1,\n",
       "  'recall': 0.3333333333333333,\n",
       "  'significant': True,\n",
       "  'source': 'GO:CC',\n",
       "  'term_size': 3},\n",
       " {'description': 'DNM1L-FIS1 complex',\n",
       "  'effective_domain_size': 3383,\n",
       "  'intersection_size': 1,\n",
       "  'name': 'DNM1L-FIS1 complex',\n",
       "  'native': 'CORUM:4200',\n",
       "  'p_value': 0.04993169344335535,\n",
       "  'parents': ['CORUM:0000000'],\n",
       "  'precision': 1.0,\n",
       "  'query': 'query_1',\n",
       "  'query_size': 1,\n",
       "  'recall': 0.5,\n",
       "  'significant': True,\n",
       "  'source': 'CORUM',\n",
       "  'term_size': 2}]"
      ]
     },
     "execution_count": 17,
     "metadata": {},
     "output_type": "execute_result"
    }
   ],
   "source": [
    "from gprofiler import GProfiler\n",
    "\n",
    "gp = GProfiler( return_dataframe=False )\n",
    "res = gp.profile(\n",
    "\torganism='hsapiens',\n",
    "\tquery=[ 'DNM1L' ],\n",
    ")\n",
    "for r in res:\n",
    "\tyield r[ 'native' ]\n"
   ]
  },
  {
   "cell_type": "code",
   "execution_count": 4,
   "metadata": {},
   "outputs": [],
   "source": [
    "from gprofiler import GProfiler\n",
    "\n",
    "rkeys = (\n",
    " 'name',\n",
    " 'native',\n",
    " 'description',\n",
    ")\n",
    "\n",
    "\n",
    "def enrichment( specie_mtb: str, genes: list ):\n",
    "\tgp = GProfiler( return_dataframe=False )\n",
    "\tres = gp.profile(\n",
    "\t organism='hsapiens',\n",
    "\t query=genes,\n",
    "\t)\n",
    "\tfor r in res:\n",
    "\t\ttry:\n",
    "\t\t\ts = { key: r[ key ] for key in rkeys }\n",
    "\t\t\tyield s\n",
    "\t\texcept:\n",
    "\t\t\tNone\n",
    "\n",
    "\n",
    "x = list(\n",
    " enrichment(\n",
    "  '', [\n",
    "   \"SMYD1\", \"CD55\", \"MSN\", \"GPBP1L1\", \"RHOBTB3\", \"PLAG1\", \"MSANTD4\", \"CRK\", \"PAPLN\", \"TFAP2A\", \"IPCEF1\", \"MAGT1\",\n",
    "   \"PARP15\", \"OTUD5\", \"MTMR12\", \"COLGALT1\", \"NXPH2\", \"PPIP5K1\", \"SOCS7\", \"SPRY4\"\n",
    "  ]\n",
    " )\n",
    ")\n"
   ]
  },
  {
   "cell_type": "code",
   "execution_count": 5,
   "metadata": {},
   "outputs": [
    {
     "data": {
      "text/plain": [
       "[{'name': 'hsa-miR-664b-5p',\n",
       "  'native': 'MIRNA:hsa-miR-664b-5p',\n",
       "  'description': 'hsa-miR-664b-5p'},\n",
       " {'name': 'hsa-miR-4489',\n",
       "  'native': 'MIRNA:hsa-miR-4489',\n",
       "  'description': 'hsa-miR-4489'},\n",
       " {'name': 'hsa-miR-6846-5p',\n",
       "  'native': 'MIRNA:hsa-miR-6846-5p',\n",
       "  'description': 'hsa-miR-6846-5p'},\n",
       " {'name': 'hsa-miR-6848-5p',\n",
       "  'native': 'MIRNA:hsa-miR-6848-5p',\n",
       "  'description': 'hsa-miR-6848-5p'},\n",
       " {'name': 'hsa-miR-135b-3p',\n",
       "  'native': 'MIRNA:hsa-miR-135b-3p',\n",
       "  'description': 'hsa-miR-135b-3p'},\n",
       " {'name': 'hsa-miR-3919',\n",
       "  'native': 'MIRNA:hsa-miR-3919',\n",
       "  'description': 'hsa-miR-3919'}]"
      ]
     },
     "execution_count": 5,
     "metadata": {},
     "output_type": "execute_result"
    }
   ],
   "source": [
    "x\n"
   ]
  },
  {
   "cell_type": "code",
   "execution_count": 1,
   "metadata": {},
   "outputs": [
    {
     "data": {
      "text/plain": [
       "[1, None, 2]"
      ]
     },
     "execution_count": 1,
     "metadata": {},
     "output_type": "execute_result"
    }
   ],
   "source": [
    "def gg():\n",
    "\tyield 1\n",
    "\tyield None\n",
    "\tyield 2\n",
    "\n",
    "\n",
    "list( gg() )\n"
   ]
  },
  {
   "cell_type": "code",
   "execution_count": null,
   "metadata": {},
   "outputs": [],
   "source": []
  }
 ],
 "metadata": {
  "kernelspec": {
   "display_name": ".venv",
   "language": "python",
   "name": "python3"
  },
  "language_info": {
   "codemirror_mode": {
    "name": "ipython",
    "version": 3
   },
   "file_extension": ".py",
   "mimetype": "text/x-python",
   "name": "python",
   "nbconvert_exporter": "python",
   "pygments_lexer": "ipython3",
   "version": "3.10.6"
  },
  "orig_nbformat": 4
 },
 "nbformat": 4,
 "nbformat_minor": 2
}
