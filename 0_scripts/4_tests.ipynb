{
 "cells": [
  {
   "cell_type": "code",
   "execution_count": 3,
   "metadata": {},
   "outputs": [],
   "source": [
    "import json\n",
    "import pymongo\n",
    "from flask import Flask, request, jsonify\n",
    "from flask_mongoengine import MongoEngine\n",
    "\n",
    "xxyzx = None\n",
    "app = Flask( __name__ )\n",
    "app.config[ 'MONGODB_SETTINGS' ] = { 'db': 'tfm00', 'host': 'localhost', 'port': 27017 }\n",
    "db = MongoEngine()\n",
    "db.init_app( app )\n"
   ]
  },
  {
   "cell_type": "code",
   "execution_count": 4,
   "metadata": {},
   "outputs": [],
   "source": [
    "class User( db.Document ):\n",
    "\t_id = db.StringField()\n",
    "\tgene_symbol = db.StringField()\n",
    "\t\n",
    "\tdef to_json( self ):\n",
    "\t\treturn { \"_id\": self._id, \"email\": self.gene_symbol }\n"
   ]
  },
  {
   "cell_type": "code",
   "execution_count": 5,
   "metadata": {},
   "outputs": [],
   "source": [
    "def retrieve_with_mongoengine( name ):\n",
    "\tuser = User.objects( _id=name )\n",
    "\treturn jsonify( user.to_json() )\n",
    "\n",
    "\n",
    "myclient = pymongo.MongoClient( 'mongodb://localhost:27017/' )\n",
    "mydb = myclient[ 'tfm00' ]\n",
    "mycol = mydb[ 'mirtarbase' ]\n",
    "\n",
    "\n",
    "def retrieve_with_pymongo( conditions, fields ):\n",
    "\tmyres = mycol.find( conditions, fields )\n",
    "\treturn myres\n"
   ]
  },
  {
   "cell_type": "code",
   "execution_count": 6,
   "metadata": {},
   "outputs": [],
   "source": [
    "@app.route( '/', methods=[ 'GET' ] )\n",
    "def mainmenu():\n",
    "\treturn jsonify( {\n",
    "\t\t'help': 'please use one of the shown formats',\n",
    "\t\t'fmts': {\n",
    "\t\t'/genes?mirna=<id>': 'get genes regulted by mirna',\n",
    "\t\t'/mirnas?gene=<id>': 'get mirnas regulting a gene',\n",
    "\t\t}\n",
    "\t} )\n",
    "\n",
    "\n",
    "### 1. Qué genes están regulados por un determinado mirna.\n",
    "### recibe un `_id` y devuelve un `gene_symbol`\n",
    "@app.route( '/genes', methods=[ 'GET' ] )\n",
    "def genes():\n",
    "\tname = request.args.get( 'mirna' )\n",
    "\ttry:\n",
    "\t\tres = retrieve_with_mongoengine( name )\n",
    "\texcept:\n",
    "\t\tres = retrieve_with_pymongo( { '_id': name }, { '_id': 0, 'gene_symbol': 1 } )\n",
    "\t\tres = next( res, { 'gene_symbol': None } )\n",
    "\treturn jsonify( res )\n",
    "\n",
    "\n",
    "### 2. Qué mirnas regulan determinados genes.\n",
    "### recibe un `gene_symbol` y se devuelve uno o varios `_id`s\n",
    "@app.route( '/mirnas', methods=[ 'GET' ] )\n",
    "def mirnas():\n",
    "\tname = request.args.get( 'gen' )\n",
    "\tprint( name )\n",
    "\treturn jsonify( { 'name': name } )\n"
   ]
  },
  {
   "cell_type": "code",
   "execution_count": 12,
   "metadata": {},
   "outputs": [
    {
     "data": {
      "text/plain": [
       "({'gene_symbol': 'CSD2'}, dict)"
      ]
     },
     "execution_count": 12,
     "metadata": {},
     "output_type": "execute_result"
    }
   ],
   "source": [
    "res = retrieve_with_pymongo(\n",
    "\t{\n",
    "\t'_id': 'MIRT002091',\n",
    "\t},\n",
    "\t{\n",
    "\t'_id': 0,\n",
    "\t'gene_symbol': 1,\n",
    "\t},\n",
    ")\n",
    "res = next( res, { 'gene_symbol': None } )\n",
    "res, type( res )\n"
   ]
  },
  {
   "cell_type": "code",
   "execution_count": 17,
   "metadata": {},
   "outputs": [
    {
     "data": {
      "text/plain": [
       "[{'description': '\"A vesicle derived via budding from a mitochondrion. These vesicles often contain inner membrane and, much more rarely, cristae.\" [GOC:bc, GOC:pad, GOC:PARL-UCL, PMID:18207745, PMID:20619655, PMID:22226745, PMID:23300790]',\n",
       "  'effective_domain_size': 22122,\n",
       "  'intersection_size': 1,\n",
       "  'name': 'mitochondrion-derived vesicle',\n",
       "  'native': 'GO:0099073',\n",
       "  'p_value': 0.029870398315825383,\n",
       "  'parents': ['GO:0031410'],\n",
       "  'precision': 1.0,\n",
       "  'query': 'query_1',\n",
       "  'query_size': 1,\n",
       "  'recall': 0.3333333333333333,\n",
       "  'significant': True,\n",
       "  'source': 'GO:CC',\n",
       "  'term_size': 3},\n",
       " {'description': 'DNM1L-FIS1 complex',\n",
       "  'effective_domain_size': 3383,\n",
       "  'intersection_size': 1,\n",
       "  'name': 'DNM1L-FIS1 complex',\n",
       "  'native': 'CORUM:4200',\n",
       "  'p_value': 0.04993169344335535,\n",
       "  'parents': ['CORUM:0000000'],\n",
       "  'precision': 1.0,\n",
       "  'query': 'query_1',\n",
       "  'query_size': 1,\n",
       "  'recall': 0.5,\n",
       "  'significant': True,\n",
       "  'source': 'CORUM',\n",
       "  'term_size': 2}]"
      ]
     },
     "execution_count": 17,
     "metadata": {},
     "output_type": "execute_result"
    }
   ],
   "source": [
    "from gprofiler import GProfiler\n",
    "\n",
    "gp = GProfiler( return_dataframe=False )\n",
    "res = gp.profile(\n",
    "\torganism='hsapiens',\n",
    "\tquery=[ 'DNM1L' ],\n",
    ")\n",
    "for r in res:\n",
    "\tyield r[ 'native' ]\n"
   ]
  },
  {
   "cell_type": "code",
   "execution_count": 1,
   "metadata": {},
   "outputs": [],
   "source": [
    "from gprofiler import GProfiler\n",
    "\n",
    "rkeys = (\n",
    " 'name',\n",
    " 'native',\n",
    " 'description',\n",
    ")\n",
    "\n",
    "\n",
    "def enrichment( specie_mtb: str, genes: list ):\n",
    "\tgp = GProfiler( return_dataframe=False )\n",
    "\tres = gp.profile(\n",
    "\t organism='hsapiens',\n",
    "\t query=genes,\n",
    "\t)\n",
    "\tfor r in res:\n",
    "\t\ttry:\n",
    "\t\t\ts = { key: r[ key ] for key in rkeys }\n",
    "\t\t\tyield s\n",
    "\t\texcept:\n",
    "\t\t\tNone\n",
    "\n",
    "\n",
    "x = list(\n",
    " enrichment(\n",
    "  '', [\n",
    "   'LEPROTL1', 'HNRNPUL1', 'SGK1', 'CBFB', 'DNAJA2', 'E2F3', 'ZFP3', 'ZNF264', 'ABCB5', 'NUDT3', 'GREM1', 'CEPT1',\n",
    "   'ZNF701', 'TIMM8B', 'CNBP', 'ZNF525', 'CNIH4', 'EIF2A', 'PHKB', 'CASTOR2', 'CMSS1', 'TMC7', 'NAPEPLD', 'TMEM251',\n",
    "   'LRRC57', 'C16orf87', 'SEMA5A', 'KATNAL1', 'TPT1', 'TRIM13', 'NPY4R', 'AGO1', 'SRSF11', 'ENTPD7', 'STX16', 'THYN1',\n",
    "   'TASP1', 'SRSF7', 'SLFN5', 'CDCP1', 'STOM', 'FAM161B', 'NUP205', 'OSMR', 'MRPL3', 'ASPA', 'ERP44', 'EMX1', 'RRP8',\n",
    "   'STRIP2', 'PACSIN1', 'DUSP4', 'GABRB1', 'CKS1B', 'CREBRF', 'ZNHIT3', 'ACTBL2', 'SOX3', 'POU2F1', 'PRAMEF7',\n",
    "   'PRAMEF8', 'BCL2L13', 'POFUT2', 'SYT9', 'ZHX3', 'TENM4', 'PAX8', 'NECTIN3', 'PGM2L1', 'PPTC7', 'ZNF576', 'OXGR1',\n",
    "   'SLC25A12', 'XPO4', 'SYPL1', 'HIST1H3J', 'PKNOX1', 'PPP1CB', 'ZFP36L1', 'GTF2E2', 'MED19', 'LNPK', 'LRIG3', 'CNN3',\n",
    "   'TRIM4', 'PURG', 'ZNF616', 'FOXO3', 'SON', 'HIVEP3', 'TAZ', 'RAP2A', 'AREL1', 'LEAP2', 'PLCXD3', 'ZBTB25', 'DHCR24',\n",
    "   'CXCL3', 'VLDLR', 'BMPR2', 'CCDC18', 'NGRN', 'IL1RAPL1', 'CXCL8', 'BLCAP', 'CAPNS1', 'GNG5', 'PRR13', 'CNRIP1',\n",
    "   'GATSL2', 'KIAA1244', 'PVRL3', 'KIAA1715', 'PIK3R1', 'NME2', 'HOXA1', 'STK26'\n",
    "  ]\n",
    " )\n",
    ")\n"
   ]
  },
  {
   "cell_type": "code",
   "execution_count": 5,
   "metadata": {},
   "outputs": [
    {
     "data": {
      "text/plain": [
       "[{'name': 'hsa-miR-664b-5p',\n",
       "  'native': 'MIRNA:hsa-miR-664b-5p',\n",
       "  'description': 'hsa-miR-664b-5p'},\n",
       " {'name': 'hsa-miR-4489',\n",
       "  'native': 'MIRNA:hsa-miR-4489',\n",
       "  'description': 'hsa-miR-4489'},\n",
       " {'name': 'hsa-miR-6846-5p',\n",
       "  'native': 'MIRNA:hsa-miR-6846-5p',\n",
       "  'description': 'hsa-miR-6846-5p'},\n",
       " {'name': 'hsa-miR-6848-5p',\n",
       "  'native': 'MIRNA:hsa-miR-6848-5p',\n",
       "  'description': 'hsa-miR-6848-5p'},\n",
       " {'name': 'hsa-miR-135b-3p',\n",
       "  'native': 'MIRNA:hsa-miR-135b-3p',\n",
       "  'description': 'hsa-miR-135b-3p'},\n",
       " {'name': 'hsa-miR-3919',\n",
       "  'native': 'MIRNA:hsa-miR-3919',\n",
       "  'description': 'hsa-miR-3919'}]"
      ]
     },
     "execution_count": 5,
     "metadata": {},
     "output_type": "execute_result"
    }
   ],
   "source": [
    "x\n"
   ]
  },
  {
   "cell_type": "code",
   "execution_count": 1,
   "metadata": {},
   "outputs": [
    {
     "data": {
      "text/plain": [
       "[1, None, 2]"
      ]
     },
     "execution_count": 1,
     "metadata": {},
     "output_type": "execute_result"
    }
   ],
   "source": [
    "def gg():\n",
    "\tyield 1\n",
    "\tyield None\n",
    "\tyield 2\n",
    "\n",
    "\n",
    "list( gg() )\n"
   ]
  },
  {
   "cell_type": "code",
   "execution_count": null,
   "metadata": {},
   "outputs": [],
   "source": []
  }
 ],
 "metadata": {
  "kernelspec": {
   "display_name": ".venv",
   "language": "python",
   "name": "python3"
  },
  "language_info": {
   "codemirror_mode": {
    "name": "ipython",
    "version": 3
   },
   "file_extension": ".py",
   "mimetype": "text/x-python",
   "name": "python",
   "nbconvert_exporter": "python",
   "pygments_lexer": "ipython3",
   "version": "3.10.6"
  },
  "orig_nbformat": 4
 },
 "nbformat": 4,
 "nbformat_minor": 2
}
